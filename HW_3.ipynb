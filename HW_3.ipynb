{
 "cells": [
  {
   "cell_type": "code",
   "execution_count": 12,
   "id": "4a2e6106",
   "metadata": {},
   "outputs": [],
   "source": [
    "# HW_3\n",
    "\n",
    "# 315767731\n",
    "\n",
    "#A\n",
    "import os.path\n",
    "def read_line(n,file):\n",
    "    file_check = os.path.exists(file)\n",
    "    if type(n) != int:\n",
    "        return \"invalid input detected\"\n",
    "    elif file_check == False:\n",
    "        return \"file not found\"\n",
    "    elif n>23:\n",
    "        return(\"line {} doesn't exist\".format(n))\n",
    "    else:\n",
    "        line_number = n-1\n",
    "        file = open(file)\n",
    "        line = file.readlines()\n",
    "        return(line[line_number])\n",
    "       \n",
    "    \n",
    "    \n",
    "    \n",
    "    \n",
    "\n"
   ]
  },
  {
   "cell_type": "code",
   "execution_count": 15,
   "id": "eb94d900",
   "metadata": {
    "scrolled": true
   },
   "outputs": [
    {
     "name": "stdout",
     "output_type": "stream",
     "text": [
      "There is much more to black holes than meets the eye. In fact,\n",
      "\n"
     ]
    }
   ],
   "source": [
    "print(read_line(4, 'ex3_text.txt'))"
   ]
  },
  {
   "cell_type": "code",
   "execution_count": 16,
   "id": "d5e43de0",
   "metadata": {},
   "outputs": [
    {
     "name": "stdout",
     "output_type": "stream",
     "text": [
      " \n",
      "\n"
     ]
    }
   ],
   "source": [
    "print(read_line(9, 'ex3_text.txt'))"
   ]
  },
  {
   "cell_type": "code",
   "execution_count": 17,
   "id": "da70a047",
   "metadata": {},
   "outputs": [
    {
     "name": "stdout",
     "output_type": "stream",
     "text": [
      "line 29 doesn't exist\n"
     ]
    }
   ],
   "source": [
    "print(read_line(29, 'ex3_text.txt'))"
   ]
  },
  {
   "cell_type": "code",
   "execution_count": 18,
   "id": "3280d0f6",
   "metadata": {},
   "outputs": [
    {
     "name": "stdout",
     "output_type": "stream",
     "text": [
      "invalid input detected\n"
     ]
    }
   ],
   "source": [
    "print(read_line('c', 'ex3_text.txt'))"
   ]
  },
  {
   "cell_type": "code",
   "execution_count": 19,
   "id": "b5ce2d30",
   "metadata": {},
   "outputs": [
    {
     "name": "stdout",
     "output_type": "stream",
     "text": [
      "file not found\n"
     ]
    }
   ],
   "source": [
    "print(read_line(9, 'ex4_text.txt'))"
   ]
  },
  {
   "cell_type": "code",
   "execution_count": 20,
   "id": "8e1cf5f9",
   "metadata": {},
   "outputs": [],
   "source": [
    "#B\n",
    "\n",
    "import os.path\n",
    "def longest_words(file):\n",
    "    file_check = os.path.exists(file)\n",
    "    if file_check == False:\n",
    "        return \"file not found\"\n",
    "    else:\n",
    "        data = open(file)\n",
    "        longest_words = []\n",
    "        counter = 0\n",
    "        for line in data:\n",
    "            line = line.split()\n",
    "            if counter > 1:\n",
    "                for word in line:\n",
    "                    longest_words.append(word)\n",
    "            else:\n",
    "                counter = counter + 1\n",
    "        longest_words = sorted(longest_words, key=len, reverse = True)  \n",
    "        return longest_words[:5]       \n",
    "           \n",
    "       # longest_words.sort(key=len,reverse=True)     \n",
    "        #return longest_words\n",
    "                    \n",
    "                \n",
    "        "
   ]
  },
  {
   "cell_type": "code",
   "execution_count": 21,
   "id": "dd9fa351",
   "metadata": {},
   "outputs": [
    {
     "data": {
      "text/plain": [
       "['can.Consequently,',\n",
       " 'electromagnetic',\n",
       " 'gravitational',\n",
       " 'calculations',\n",
       " 'ultraviolet']"
      ]
     },
     "execution_count": 21,
     "metadata": {},
     "output_type": "execute_result"
    }
   ],
   "source": [
    "longest_words('ex3_text.txt')"
   ]
  },
  {
   "cell_type": "code",
   "execution_count": 22,
   "id": "86b9cee1",
   "metadata": {},
   "outputs": [
    {
     "data": {
      "text/plain": [
       "'file not found'"
      ]
     },
     "execution_count": 22,
     "metadata": {},
     "output_type": "execute_result"
    }
   ],
   "source": [
    "longest_words('ex4_text.txt')"
   ]
  },
  {
   "cell_type": "code",
   "execution_count": null,
   "id": "d062b508",
   "metadata": {},
   "outputs": [],
   "source": []
  }
 ],
 "metadata": {
  "kernelspec": {
   "display_name": "Python 3 (ipykernel)",
   "language": "python",
   "name": "python3"
  },
  "language_info": {
   "codemirror_mode": {
    "name": "ipython",
    "version": 3
   },
   "file_extension": ".py",
   "mimetype": "text/x-python",
   "name": "python",
   "nbconvert_exporter": "python",
   "pygments_lexer": "ipython3",
   "version": "3.9.7"
  }
 },
 "nbformat": 4,
 "nbformat_minor": 5
}
